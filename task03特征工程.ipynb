{
 "cells": [
  {
   "cell_type": "code",
   "execution_count": 2,
   "metadata": {},
   "outputs": [],
   "source": [
    "import pandas as pd\n",
    "import numpy as np\n",
    "import seaborn as sns\n",
    "import matplotlib.pyplot as plt\n",
    "import datetime\n",
    "from sklearn.preprocessing import LabelEncoder\n",
    "from sklearn.feature_selection import SelectKBest\n",
    "from sklearn.feature_selection import chi2\n",
    "from sklearn.preprocessing import MinMaxScaler\n",
    "import xgboost as xgb\n",
    "import lightgbm as lgb\n",
    "# from catboost import CatBoostRegressor\n",
    "import warnings\n",
    "from sklearn.model_selection import StratifiedKFold, KFold\n",
    "from sklearn.metrics import accuracy_score, f1_score, roc_auc_score, log_loss\n",
    "from tqdm import tqdm\n",
    "import warnings\n",
    "\n",
    "warnings.filterwarnings('ignore')"
   ]
  },
  {
   "cell_type": "code",
   "execution_count": 3,
   "metadata": {},
   "outputs": [],
   "source": [
    "data_train = pd.read_csv('../finance_dataset/train.csv')"
   ]
  },
  {
   "cell_type": "code",
   "execution_count": 4,
   "metadata": {},
   "outputs": [],
   "source": [
    "data_test = pd.read_csv('../finance_dataset/testA.csv')"
   ]
  },
  {
   "cell_type": "markdown",
   "metadata": {},
   "source": [
    "### 填充缺失值"
   ]
  },
  {
   "cell_type": "code",
   "execution_count": 250,
   "metadata": {},
   "outputs": [],
   "source": [
    "# employmentLength为类别型变量，使用前填充\n",
    "data_train.fillna(method='ffill',inplace=True)\n",
    "data_test.fillna(method='ffill',inplace=True)"
   ]
  },
  {
   "cell_type": "markdown",
   "metadata": {},
   "source": [
    "### 数据特征"
   ]
  },
  {
   "cell_type": "markdown",
   "metadata": {},
   "source": [
    "连续数据和类别数据，类别数据中要区分是onehot编码还是标签编码"
   ]
  },
  {
   "cell_type": "code",
   "execution_count": 123,
   "metadata": {
    "scrolled": false
   },
   "outputs": [
    {
     "name": "stdout",
     "output_type": "stream",
     "text": [
      "<class 'pandas.core.frame.DataFrame'>\n",
      "RangeIndex: 800000 entries, 0 to 799999\n",
      "Data columns (total 47 columns):\n",
      " #   Column              Non-Null Count   Dtype  \n",
      "---  ------              --------------   -----  \n",
      " 0   id                  800000 non-null  int64  \n",
      " 1   loanAmnt            800000 non-null  float64\n",
      " 2   term                800000 non-null  int64  \n",
      " 3   interestRate        800000 non-null  float64\n",
      " 4   installment         800000 non-null  float64\n",
      " 5   grade               800000 non-null  object \n",
      " 6   subGrade            800000 non-null  object \n",
      " 7   employmentTitle     800000 non-null  float64\n",
      " 8   employmentLength    800000 non-null  object \n",
      " 9   homeOwnership       800000 non-null  int64  \n",
      " 10  annualIncome        800000 non-null  float64\n",
      " 11  verificationStatus  800000 non-null  int64  \n",
      " 12  issueDate           800000 non-null  object \n",
      " 13  isDefault           800000 non-null  int64  \n",
      " 14  purpose             800000 non-null  int64  \n",
      " 15  postCode            800000 non-null  float64\n",
      " 16  regionCode          800000 non-null  int64  \n",
      " 17  dti                 800000 non-null  float64\n",
      " 18  delinquency_2years  800000 non-null  float64\n",
      " 19  ficoRangeLow        800000 non-null  float64\n",
      " 20  ficoRangeHigh       800000 non-null  float64\n",
      " 21  openAcc             800000 non-null  float64\n",
      " 22  pubRec              800000 non-null  float64\n",
      " 23  pubRecBankruptcies  800000 non-null  float64\n",
      " 24  revolBal            800000 non-null  float64\n",
      " 25  revolUtil           800000 non-null  float64\n",
      " 26  totalAcc            800000 non-null  float64\n",
      " 27  initialListStatus   800000 non-null  int64  \n",
      " 28  applicationType     800000 non-null  int64  \n",
      " 29  earliesCreditLine   800000 non-null  object \n",
      " 30  title               800000 non-null  float64\n",
      " 31  policyCode          800000 non-null  float64\n",
      " 32  n0                  800000 non-null  float64\n",
      " 33  n1                  800000 non-null  float64\n",
      " 34  n2                  800000 non-null  float64\n",
      " 35  n3                  800000 non-null  float64\n",
      " 36  n4                  800000 non-null  float64\n",
      " 37  n5                  800000 non-null  float64\n",
      " 38  n6                  800000 non-null  float64\n",
      " 39  n7                  800000 non-null  float64\n",
      " 40  n8                  800000 non-null  float64\n",
      " 41  n9                  800000 non-null  float64\n",
      " 42  n10                 800000 non-null  float64\n",
      " 43  n11                 800000 non-null  float64\n",
      " 44  n12                 800000 non-null  float64\n",
      " 45  n13                 800000 non-null  float64\n",
      " 46  n14                 800000 non-null  float64\n",
      "dtypes: float64(33), int64(9), object(5)\n",
      "memory usage: 286.9+ MB\n"
     ]
    }
   ],
   "source": [
    "data_train.info()"
   ]
  },
  {
   "cell_type": "markdown",
   "metadata": {},
   "source": [
    "一个特征有50个属性值，是当做类别还是连续数据处理"
   ]
  },
  {
   "cell_type": "code",
   "execution_count": 251,
   "metadata": {},
   "outputs": [
    {
     "data": {
      "text/plain": [
       "Index(['grade', 'subGrade', 'employmentLength', 'issueDate',\n",
       "       'earliesCreditLine'],\n",
       "      dtype='object')"
      ]
     },
     "execution_count": 251,
     "metadata": {},
     "output_type": "execute_result"
    }
   ],
   "source": [
    "object_data=data_train.select_dtypes(include='object')\n",
    "object_data.columns"
   ]
  },
  {
   "cell_type": "code",
   "execution_count": 252,
   "metadata": {
    "scrolled": true
   },
   "outputs": [
    {
     "data": {
      "text/plain": [
       "Index(['id', 'loanAmnt', 'term', 'interestRate', 'installment',\n",
       "       'employmentTitle', 'homeOwnership', 'annualIncome',\n",
       "       'verificationStatus', 'isDefault', 'purpose', 'postCode', 'regionCode',\n",
       "       'dti', 'delinquency_2years', 'ficoRangeLow', 'ficoRangeHigh', 'openAcc',\n",
       "       'pubRec', 'pubRecBankruptcies', 'revolBal', 'revolUtil', 'totalAcc',\n",
       "       'initialListStatus', 'applicationType', 'title', 'policyCode', 'n0',\n",
       "       'n1', 'n2', 'n3', 'n4', 'n5', 'n6', 'n7', 'n8', 'n9', 'n10', 'n11',\n",
       "       'n12', 'n13', 'n14'],\n",
       "      dtype='object')"
      ]
     },
     "execution_count": 252,
     "metadata": {},
     "output_type": "execute_result"
    }
   ],
   "source": [
    "numeraic_data=data_train.select_dtypes(include=['int64','float64'])\n",
    "numeraic_data.columns"
   ]
  },
  {
   "cell_type": "code",
   "execution_count": 253,
   "metadata": {},
   "outputs": [],
   "source": [
    "# num_data\n",
    "def get_num_obj_data(data,feas):\n",
    "    num_obj_data_columns = []\n",
    "    for fea in feas:\n",
    "        num = data[fea].nunique()\n",
    "\n",
    "        if num<20:\n",
    "            num_obj_data_columns.append(fea)\n",
    "    return num_obj_data_columns\n",
    "num_cat_col = get_num_obj_data(data_train,numeraic_data.columns)"
   ]
  },
  {
   "cell_type": "code",
   "execution_count": 182,
   "metadata": {
    "scrolled": true
   },
   "outputs": [
    {
     "data": {
      "text/plain": [
       "['term',\n",
       " 'homeOwnership',\n",
       " 'verificationStatus',\n",
       " 'isDefault',\n",
       " 'purpose',\n",
       " 'pubRecBankruptcies',\n",
       " 'initialListStatus',\n",
       " 'applicationType',\n",
       " 'policyCode',\n",
       " 'n11',\n",
       " 'n12']"
      ]
     },
     "execution_count": 182,
     "metadata": {},
     "output_type": "execute_result"
    }
   ],
   "source": [
    "num_cat_col"
   ]
  },
  {
   "cell_type": "code",
   "execution_count": 254,
   "metadata": {},
   "outputs": [
    {
     "name": "stdout",
     "output_type": "stream",
     "text": [
      "2\n",
      "6\n",
      "3\n",
      "2\n",
      "14\n",
      "11\n",
      "2\n",
      "2\n",
      "1\n",
      "5\n",
      "5\n"
     ]
    }
   ],
   "source": [
    "# 其中，policy只有一个值，所以去掉这个特征\n",
    "for name in num_cat_col:\n",
    "    print(data_train[name].nunique())\n"
   ]
  },
  {
   "cell_type": "code",
   "execution_count": 255,
   "metadata": {
    "scrolled": true
   },
   "outputs": [
    {
     "data": {
      "text/plain": [
       "['id',\n",
       " 'loanAmnt',\n",
       " 'interestRate',\n",
       " 'installment',\n",
       " 'employmentTitle',\n",
       " 'annualIncome',\n",
       " 'postCode',\n",
       " 'regionCode',\n",
       " 'dti',\n",
       " 'delinquency_2years',\n",
       " 'ficoRangeLow',\n",
       " 'ficoRangeHigh',\n",
       " 'openAcc',\n",
       " 'pubRec',\n",
       " 'revolBal',\n",
       " 'revolUtil',\n",
       " 'totalAcc',\n",
       " 'title',\n",
       " 'n0',\n",
       " 'n1',\n",
       " 'n2',\n",
       " 'n3',\n",
       " 'n4',\n",
       " 'n5',\n",
       " 'n6',\n",
       " 'n7',\n",
       " 'n8',\n",
       " 'n9',\n",
       " 'n10',\n",
       " 'n13',\n",
       " 'n14']"
      ]
     },
     "execution_count": 255,
     "metadata": {},
     "output_type": "execute_result"
    }
   ],
   "source": [
    "num_nocat_col = [col for col in numeraic_data.columns if col not in num_cat_col]\n",
    "num_nocat_col"
   ]
  },
  {
   "cell_type": "code",
   "execution_count": 256,
   "metadata": {},
   "outputs": [],
   "source": [
    "num_cat_col.remove('policyCode')\n",
    "\n",
    "num_nocat_col.remove('id')"
   ]
  },
  {
   "cell_type": "code",
   "execution_count": 257,
   "metadata": {
    "scrolled": true
   },
   "outputs": [
    {
     "data": {
      "text/plain": [
       "40"
      ]
     },
     "execution_count": 257,
     "metadata": {},
     "output_type": "execute_result"
    }
   ],
   "source": [
    "all_col=num_cat_col+num_nocat_col\n",
    "len(all_col)"
   ]
  },
  {
   "cell_type": "code",
   "execution_count": null,
   "metadata": {},
   "outputs": [],
   "source": [
    "5列object+41列numeric[其中一个为id列，一个只有一个值的列]+1标签列=47列"
   ]
  },
  {
   "cell_type": "markdown",
   "metadata": {},
   "source": [
    "去掉的列：\n",
    "id是编号"
   ]
  },
  {
   "cell_type": "markdown",
   "metadata": {},
   "source": [
    "以上共有3类特征，字符类型的类别特征，数值类型的类别特征，数值型的连续数据\n",
    "以下对类别特征和连续数据进行处理和分析"
   ]
  },
  {
   "cell_type": "markdown",
   "metadata": {},
   "source": [
    "### 时间格式处理"
   ]
  },
  {
   "cell_type": "markdown",
   "metadata": {},
   "source": [
    "对object类型数据处理 ['grade', 'subGrade', 'employmentLength', 'issueDate','earliesCreditLine']"
   ]
  },
  {
   "cell_type": "code",
   "execution_count": 258,
   "metadata": {},
   "outputs": [],
   "source": [
    "# 连续数据\n",
    "# issueDateDT得到的是天数\n",
    "for data in [data_train,data_test]:\n",
    "    data['issueDate'] = pd.to_datetime(data['issueDate'],format='%Y-%m-%d')\n",
    "    startdate = datetime.datetime.strptime('2007-06-01','%Y-%m-%d')\n",
    "    data['issueDateDT'] = data['issueDate'].apply(lambda x:x-startdate).dt.days"
   ]
  },
  {
   "cell_type": "code",
   "execution_count": 191,
   "metadata": {
    "scrolled": false
   },
   "outputs": [
    {
     "data": {
      "text/plain": [
       "Series([], Name: issueDate, dtype: datetime64[ns])"
      ]
     },
     "execution_count": 191,
     "metadata": {},
     "output_type": "execute_result"
    }
   ],
   "source": [
    "# 2007-06-01是最小日期\n",
    "data.loc[data_train['issueDateDT']<=0,'issueDate']"
   ]
  },
  {
   "cell_type": "code",
   "execution_count": 259,
   "metadata": {},
   "outputs": [],
   "source": [
    "# 类别数据-onehot\n",
    "# earliesCreditLine为类别型数据，但是，类别太多，取出earliesCreditLine年份\n",
    "for data in [data_train,data_test]:\n",
    "    data['earliesCreditLine_year'] = data['earliesCreditLine'].apply(lambda x:int(x[-4:]))\n",
    "    "
   ]
  },
  {
   "cell_type": "code",
   "execution_count": 8,
   "metadata": {},
   "outputs": [
    {
     "data": {
      "text/plain": [
       "1 year       14017\n",
       "10+ years    69874\n",
       "2 years      19347\n",
       "3 years      17012\n",
       "4 years      12566\n",
       "5 years      13324\n",
       "6 years       9898\n",
       "7 years       9304\n",
       "8 years       9595\n",
       "9 years       8073\n",
       "< 1 year     16990\n",
       "Name: employmentLength, dtype: int64"
      ]
     },
     "execution_count": 8,
     "metadata": {},
     "output_type": "execute_result"
    }
   ],
   "source": [
    "# sort_index按照索引排序\n",
    "data_test['employmentLength'].value_counts().sort_index()"
   ]
  },
  {
   "cell_type": "markdown",
   "metadata": {},
   "source": [
    "### 对象类型特征转换到数值"
   ]
  },
  {
   "cell_type": "markdown",
   "metadata": {},
   "source": [
    "去掉只有一个值的特征policyCode\n",
    "isDafault是标签变量\n",
    "issueDate已经被转化为了天数\n",
    "earliesCreditLine为类别型数据，转化为天数\n",
    "grade有优先级，需要进行标签编码，而不是onehot编\n",
    "employmentLength 将年份提取出来"
   ]
  },
  {
   "cell_type": "code",
   "execution_count": 32,
   "metadata": {},
   "outputs": [],
   "source": [
    "['grade', 'subGrade', 'employmentLength', 'issueDate','earliesCreditLine']+['term',\n",
    " 'homeOwnership',\n",
    " 'verificationStatus',\n",
    " 'isDefault',\n",
    " 'purpose',\n",
    " 'pubRecBankruptcies',\n",
    " 'initialListStatus',\n",
    " 'applicationType',\n",
    " 'policyCode',\n",
    " 'n11',\n",
    " 'n12']"
   ]
  },
  {
   "cell_type": "markdown",
   "metadata": {},
   "source": [
    "#### 对字符类型的类别特征处理"
   ]
  },
  {
   "cell_type": "code",
   "execution_count": 260,
   "metadata": {},
   "outputs": [],
   "source": [
    "# grade，类别标签-标签编码\n",
    "# 因为grade有优先级，亦等级，所以要标签编码\n",
    "dict_grade = {'A':1,'B':2,'C':3,'D':4,'E':5,'F':6,'G':7}\n",
    "for data in [data_train,data_test]:\n",
    "    data['grade_label2code'] = data['grade'].map(dict_grade)"
   ]
  },
  {
   "cell_type": "code",
   "execution_count": 261,
   "metadata": {},
   "outputs": [],
   "source": [
    "# 类别标签-onehot\n",
    "# 对employmentLength_to_int进行处理，然后只用年份来表示数据\n",
    "def employmentLength_to_int(s):\n",
    "    if pd.isnull(s):\n",
    "        return s\n",
    "    else:\n",
    "        return int(s.split()[0])\n",
    "for data in [data_train,data_test]:\n",
    "    data['employmentLength'].replace('10+ years','10 years',inplace=True)\n",
    "    data['employmentLength'].replace('< 1 year','0 years',inplace=True)\n",
    "    data['employmentLength_label2code']=data['employmentLength'].apply(employmentLength_to_int)"
   ]
  },
  {
   "cell_type": "code",
   "execution_count": 262,
   "metadata": {},
   "outputs": [],
   "source": [
    "# 类别标签-标签编码\n",
    "# subgrade\n",
    "dict_sgrade=data_train['subGrade'].unique()\n",
    "dict_sgrade=sorted(dict_sgrade)\n",
    "dict_sgrade = {dict_sgrade[i]:i for i in range(len(dict_sgrade))}\n",
    "for data in [data_train,data_test]:\n",
    "    data['subGrade_label2code'] = data['subGrade'].map(dict_sgrade)"
   ]
  },
  {
   "cell_type": "code",
   "execution_count": 263,
   "metadata": {
    "scrolled": true
   },
   "outputs": [
    {
     "name": "stdout",
     "output_type": "stream",
     "text": [
      "(200000, 51)\n",
      "(800000, 52)\n"
     ]
    }
   ],
   "source": [
    "print(data_test.shape)\n",
    "print(data_train.shape)"
   ]
  },
  {
   "cell_type": "markdown",
   "metadata": {},
   "source": [
    "年份是one-hot编码还是label_encode比较好"
   ]
  },
  {
   "cell_type": "code",
   "execution_count": 264,
   "metadata": {},
   "outputs": [
    {
     "data": {
      "text/plain": [
       "['term',\n",
       " 'homeOwnership',\n",
       " 'verificationStatus',\n",
       " 'isDefault',\n",
       " 'purpose',\n",
       " 'pubRecBankruptcies',\n",
       " 'initialListStatus',\n",
       " 'applicationType',\n",
       " 'n11',\n",
       " 'n12',\n",
       " 'earliesCreditLine_year',\n",
       " 'employmentLength_label2code']"
      ]
     },
     "execution_count": 264,
     "metadata": {},
     "output_type": "execute_result"
    }
   ],
   "source": [
    "num_cat_col.extend(['earliesCreditLine_year','employmentLength_label2code'])\n",
    "num_cat_col"
   ]
  },
  {
   "cell_type": "code",
   "execution_count": 265,
   "metadata": {},
   "outputs": [],
   "source": [
    "num_cat_col.remove('isDefault')\n",
    "cate_feature = num_cat_col"
   ]
  },
  {
   "cell_type": "code",
   "execution_count": 266,
   "metadata": {},
   "outputs": [],
   "source": [
    "data_train = pd.get_dummies(data_train,columns=cate_feature)\n",
    "data_test = pd.get_dummies(data_test,columns=cate_feature)"
   ]
  },
  {
   "cell_type": "code",
   "execution_count": 267,
   "metadata": {},
   "outputs": [
    {
     "data": {
      "text/plain": [
       "(800000, 166)"
      ]
     },
     "execution_count": 267,
     "metadata": {},
     "output_type": "execute_result"
    }
   ],
   "source": [
    "# 由此可见，都转化为了数值类型\n",
    "data_train.select_dtypes(exclude='object').shape"
   ]
  },
  {
   "cell_type": "code",
   "execution_count": 204,
   "metadata": {},
   "outputs": [
    {
     "data": {
      "text/plain": [
       "Index(['pubRecBankruptcies_4.0', 'pubRecBankruptcies_5.0',\n",
       "       'pubRecBankruptcies_6.0', 'pubRecBankruptcies_7.0',\n",
       "       'pubRecBankruptcies_8.0', 'pubRecBankruptcies_9.0',\n",
       "       'pubRecBankruptcies_12.0', 'initialListStatus_0', 'initialListStatus_1',\n",
       "       'applicationType_0', 'applicationType_1', 'n11_0.0', 'n11_1.0',\n",
       "       'n11_2.0', 'n11_3.0', 'n11_4.0', 'n12_0.0', 'n12_1.0', 'n12_2.0',\n",
       "       'n12_3.0', 'n12_4.0', 'earliesCreditLine_year_1944',\n",
       "       'earliesCreditLine_year_1946', 'earliesCreditLine_year_1950',\n",
       "       'earliesCreditLine_year_1951', 'earliesCreditLine_year_1952',\n",
       "       'earliesCreditLine_year_1953', 'earliesCreditLine_year_1954',\n",
       "       'earliesCreditLine_year_1955', 'earliesCreditLine_year_1956',\n",
       "       'earliesCreditLine_year_1957', 'earliesCreditLine_year_1958',\n",
       "       'earliesCreditLine_year_1959', 'earliesCreditLine_year_1960',\n",
       "       'earliesCreditLine_year_1961', 'earliesCreditLine_year_1962',\n",
       "       'earliesCreditLine_year_1963', 'earliesCreditLine_year_1964',\n",
       "       'earliesCreditLine_year_1965', 'earliesCreditLine_year_1966',\n",
       "       'earliesCreditLine_year_1967', 'earliesCreditLine_year_1968',\n",
       "       'earliesCreditLine_year_1969', 'earliesCreditLine_year_1970',\n",
       "       'earliesCreditLine_year_1971', 'earliesCreditLine_year_1972',\n",
       "       'earliesCreditLine_year_1973', 'earliesCreditLine_year_1974',\n",
       "       'earliesCreditLine_year_1975', 'earliesCreditLine_year_1976',\n",
       "       'earliesCreditLine_year_1977', 'earliesCreditLine_year_1978',\n",
       "       'earliesCreditLine_year_1979', 'earliesCreditLine_year_1980',\n",
       "       'earliesCreditLine_year_1981', 'earliesCreditLine_year_1982',\n",
       "       'earliesCreditLine_year_1983', 'earliesCreditLine_year_1984',\n",
       "       'earliesCreditLine_year_1985', 'earliesCreditLine_year_1986',\n",
       "       'earliesCreditLine_year_1987', 'earliesCreditLine_year_1988',\n",
       "       'earliesCreditLine_year_1989', 'earliesCreditLine_year_1990',\n",
       "       'earliesCreditLine_year_1991', 'earliesCreditLine_year_1992',\n",
       "       'earliesCreditLine_year_1993', 'earliesCreditLine_year_1994',\n",
       "       'earliesCreditLine_year_1995', 'earliesCreditLine_year_1996',\n",
       "       'earliesCreditLine_year_1997', 'earliesCreditLine_year_1998',\n",
       "       'earliesCreditLine_year_1999', 'earliesCreditLine_year_2000',\n",
       "       'earliesCreditLine_year_2001', 'earliesCreditLine_year_2002',\n",
       "       'earliesCreditLine_year_2003', 'earliesCreditLine_year_2004',\n",
       "       'earliesCreditLine_year_2005', 'earliesCreditLine_year_2006',\n",
       "       'earliesCreditLine_year_2007', 'earliesCreditLine_year_2008',\n",
       "       'earliesCreditLine_year_2009', 'earliesCreditLine_year_2010',\n",
       "       'earliesCreditLine_year_2011', 'earliesCreditLine_year_2012',\n",
       "       'earliesCreditLine_year_2013', 'earliesCreditLine_year_2014',\n",
       "       'earliesCreditLine_year_2015', 'employmentLength_label2code_0',\n",
       "       'employmentLength_label2code_1', 'employmentLength_label2code_2',\n",
       "       'employmentLength_label2code_3', 'employmentLength_label2code_4',\n",
       "       'employmentLength_label2code_5', 'employmentLength_label2code_6',\n",
       "       'employmentLength_label2code_7', 'employmentLength_label2code_8',\n",
       "       'employmentLength_label2code_9', 'employmentLength_label2code_10'],\n",
       "      dtype='object')"
      ]
     },
     "execution_count": 204,
     "metadata": {},
     "output_type": "execute_result"
    }
   ],
   "source": [
    "data_train.columns[70:]"
   ]
  },
  {
   "cell_type": "markdown",
   "metadata": {},
   "source": [
    "## 异常值处理"
   ]
  },
  {
   "cell_type": "markdown",
   "metadata": {},
   "source": [
    "3segma做"
   ]
  },
  {
   "cell_type": "code",
   "execution_count": 268,
   "metadata": {},
   "outputs": [],
   "source": [
    "def find_outliers_by_3segama(data,fea):\n",
    "    data_std = np.std(data[fea])\n",
    "    data_mean = np.mean(data[fea])\n",
    "    outliers_cut_off = data_std * 3\n",
    "    lower_rule = data_mean - outliers_cut_off\n",
    "    upper_rule = data_mean + outliers_cut_off\n",
    "    data[fea+'_outliers'] = data[fea].apply(lambda x:str('异常值') if x > upper_rule or x < lower_rule else '正常值')\n",
    "    return data"
   ]
  },
  {
   "cell_type": "code",
   "execution_count": 54,
   "metadata": {},
   "outputs": [
    {
     "data": {
      "text/plain": [
       "0    640390\n",
       "1    159610\n",
       "Name: isDefault, dtype: int64"
      ]
     },
     "execution_count": 54,
     "metadata": {},
     "output_type": "execute_result"
    }
   ],
   "source": [
    "data_train['isDefault'].value_counts()"
   ]
  },
  {
   "cell_type": "code",
   "execution_count": 53,
   "metadata": {
    "scrolled": false
   },
   "outputs": [
    {
     "data": {
      "text/plain": [
       "<matplotlib.axes._subplots.AxesSubplot at 0x158953d8860>"
      ]
     },
     "execution_count": 53,
     "metadata": {},
     "output_type": "execute_result"
    },
    {
     "data": {
      "image/png": "[encoded data removed]",
      "text/plain": [
       "<matplotlib.figure.Figure at 0x158950dcc18>"
      ]
     },
     "metadata": {},
     "output_type": "display_data"
    }
   ],
   "source": [
    "sns.countplot(data=data_train,x='isDefault')"
   ]
  },
  {
   "cell_type": "markdown",
   "metadata": {},
   "source": [
    "这个也看不出来史啥意思"
   ]
  },
  {
   "cell_type": "code",
   "execution_count": 269,
   "metadata": {
    "scrolled": false
   },
   "outputs": [],
   "source": [
    "# data_train = data_train_cated.copy()\n",
    "for fea in num_nocat_col:\n",
    "    data_test = find_outliers_by_3segama(data_test,fea)\n",
    "    data_train = find_outliers_by_3segama(data_train,fea)\n",
    "#     print(data_train[fea+'_outliers'].value_counts())\n",
    "#     print(data_train.groupby(fea+'_outliers')['isDefault'].sum())\n",
    "#     print('*'*10)"
   ]
  },
  {
   "cell_type": "code",
   "execution_count": 77,
   "metadata": {},
   "outputs": [
    {
     "name": "stdout",
     "output_type": "stream",
     "text": [
      "<class 'pandas.core.frame.DataFrame'>\n",
      "RangeIndex: 800000 entries, 0 to 799999\n",
      "Columns: 127 entries, id to subGrade_label2code_outliers\n",
      "dtypes: datetime64[ns](1), float64(29), int64(8), object(38), uint8(51)\n",
      "memory usage: 502.8+ MB\n"
     ]
    }
   ],
   "source": [
    "data_train.info()"
   ]
  },
  {
   "cell_type": "markdown",
   "metadata": {},
   "source": [
    "### 分箱"
   ]
  },
  {
   "cell_type": "markdown",
   "metadata": {},
   "source": [
    "#### 固定宽度分箱"
   ]
  },
  {
   "cell_type": "code",
   "execution_count": 270,
   "metadata": {},
   "outputs": [],
   "source": [
    "# 通过除法映射到间隔均匀的分箱中，每个分箱的取值范围都是loanAmnt/1000,只取整，不要余数\n",
    "data_train['loanAmnt_bin1'] = np.floor_divide(data_train['loanAmnt'], 1000)\n",
    "data_test['loanAmnt_bin1'] = np.floor_divide(data_test['loanAmnt'], 1000)"
   ]
  },
  {
   "cell_type": "code",
   "execution_count": 88,
   "metadata": {},
   "outputs": [],
   "source": [
    "## 通过对数函数映射到指数宽度分箱\n",
    "data['loanAmnt_bin2'] = np.floor(np.log10(data_train['loanAmnt']))"
   ]
  },
  {
   "cell_type": "code",
   "execution_count": 90,
   "metadata": {},
   "outputs": [
    {
     "data": {
      "text/plain": [
       "4.0    528623\n",
       "3.0    271370\n",
       "2.0         7\n",
       "Name: loanAmnt_bin2, dtype: int64"
      ]
     },
     "execution_count": 90,
     "metadata": {},
     "output_type": "execute_result"
    }
   ],
   "source": [
    "data['loanAmnt_bin2'].value_counts()"
   ]
  },
  {
   "cell_type": "code",
   "execution_count": 93,
   "metadata": {},
   "outputs": [
    {
     "data": {
      "text/plain": [
       "<matplotlib.axes._subplots.AxesSubplot at 0x19be052c6a0>"
      ]
     },
     "execution_count": 93,
     "metadata": {},
     "output_type": "execute_result"
    },
    {
     "data": {
      "image/png": "[encoded data removed]",
      "text/plain": [
       "<matplotlib.figure.Figure at 0x19bcdadc048>"
      ]
     },
     "metadata": {},
     "output_type": "display_data"
    }
   ],
   "source": [
    "sns.distplot(np.log10(data_train['loanAmnt']))"
   ]
  },
  {
   "cell_type": "code",
   "execution_count": 94,
   "metadata": {},
   "outputs": [
    {
     "data": {
      "text/plain": [
       "<matplotlib.axes._subplots.AxesSubplot at 0x19bf324cc88>"
      ]
     },
     "execution_count": 94,
     "metadata": {},
     "output_type": "execute_result"
    },
    {
     "data": {
      "image/png": "[encoded data removed]",
      "text/plain": [
       "<matplotlib.figure.Figure at 0x19bccf18e10>"
      ]
     },
     "metadata": {},
     "output_type": "display_data"
    }
   ],
   "source": [
    "sns.distplot(data_train['loanAmnt'])"
   ]
  },
  {
   "cell_type": "markdown",
   "metadata": {},
   "source": [
    "#### 分位数分箱-不太懂"
   ]
  },
  {
   "cell_type": "code",
   "execution_count": 101,
   "metadata": {},
   "outputs": [
    {
     "data": {
      "text/plain": [
       "Index(['id', 'loanAmnt', 'interestRate', 'installment', 'grade', 'subGrade',\n",
       "       'employmentTitle', 'employmentLength', 'annualIncome', 'issueDate',\n",
       "       ...\n",
       "       'n8_outliers', 'n9_outliers', 'n10_outliers', 'n13_outliers',\n",
       "       'n14_outliers', 'issueDateDT_outliers',\n",
       "       'earliesCreditLine_year_outliers', 'subGrade_label2code_outliers',\n",
       "       'loanAmnt_bin1', 'loanAmnt_bin3'],\n",
       "      dtype='object', length=129)"
      ]
     },
     "execution_count": 101,
     "metadata": {},
     "output_type": "execute_result"
    }
   ],
   "source": [
    "data_train.columns"
   ]
  },
  {
   "cell_type": "code",
   "execution_count": 271,
   "metadata": {},
   "outputs": [],
   "source": [
    "# 将数据按排序后，分成10份，每份中的数据个数相同\n",
    "data_train['loanAmnt_bin3'] = pd.qcut(data_train['loanAmnt'],10,labels=False)\n",
    "data_test['loanAmnt_bin3'] = pd.qcut(data_test['loanAmnt'],10,labels=False)"
   ]
  },
  {
   "cell_type": "markdown",
   "metadata": {},
   "source": [
    "qcut用法"
   ]
  },
  {
   "cell_type": "code",
   "execution_count": 94,
   "metadata": {},
   "outputs": [
    {
     "name": "stdout",
     "output_type": "stream",
     "text": [
      "[68 78 70 79 72 93 64 82 66 35]\n"
     ]
    },
    {
     "data": {
      "text/plain": [
       "array([1, 3, 2, 3, 2, 4, 0, 4, 1, 0], dtype=int64)"
      ]
     },
     "execution_count": 94,
     "metadata": {},
     "output_type": "execute_result"
    }
   ],
   "source": [
    "a=np.random.randint(100,size=10)\n",
    "print(a)\n",
    "pd.qcut(a, 5, labels=False)"
   ]
  },
  {
   "cell_type": "code",
   "execution_count": 144,
   "metadata": {
    "scrolled": true
   },
   "outputs": [
    {
     "data": {
      "text/plain": [
       "248683"
      ]
     },
     "execution_count": 144,
     "metadata": {},
     "output_type": "execute_result"
    }
   ],
   "source": [
    "data_train['employmentTitle'].nunique()"
   ]
  },
  {
   "cell_type": "markdown",
   "metadata": {},
   "source": [
    "### 卡方分箱"
   ]
  },
  {
   "cell_type": "code",
   "execution_count": 36,
   "metadata": {},
   "outputs": [
    {
     "data": {
      "text/plain": [
       "(200000, 109)"
      ]
     },
     "execution_count": 36,
     "metadata": {},
     "output_type": "execute_result"
    }
   ],
   "source": [
    "data_test.shape"
   ]
  },
  {
   "cell_type": "markdown",
   "metadata": {},
   "source": [
    "### 特征的交互"
   ]
  },
  {
   "cell_type": "markdown",
   "metadata": {},
   "source": [
    "#### 特征和特征之间的组合"
   ]
  },
  {
   "cell_type": "code",
   "execution_count": 52,
   "metadata": {},
   "outputs": [],
   "source": []
  },
  {
   "cell_type": "code",
   "execution_count": null,
   "metadata": {},
   "outputs": [],
   "source": []
  },
  {
   "cell_type": "code",
   "execution_count": null,
   "metadata": {},
   "outputs": [],
   "source": []
  },
  {
   "cell_type": "markdown",
   "metadata": {},
   "source": [
    "#### 特征和特征之间衍生"
   ]
  },
  {
   "cell_type": "code",
   "execution_count": 272,
   "metadata": {},
   "outputs": [],
   "source": [
    "for col in ['grade']: \n",
    "    temp_dict = data_train.groupby([col])['isDefault'].agg(['mean']).reset_index().rename(columns={'mean': col + '_target_mean'})\n",
    "    temp_dict.set_index('grade',inplace=True)\n",
    "    temp_dict = temp_dict[col + '_target_mean'].to_dict()\n",
    "    data_train[col + '_target_mean'] = data_train[col].map(temp_dict)\n",
    "    data_test[col + '_target_mean'] = data_test[col].map(temp_dict)"
   ]
  },
  {
   "cell_type": "markdown",
   "metadata": {},
   "source": [
    "#### 其它特征衍生的尝试"
   ]
  },
  {
   "cell_type": "code",
   "execution_count": 211,
   "metadata": {},
   "outputs": [
    {
     "data": {
      "text/plain": [
       "['loanAmnt',\n",
       " 'interestRate',\n",
       " 'installment',\n",
       " 'employmentTitle',\n",
       " 'annualIncome',\n",
       " 'postCode',\n",
       " 'regionCode',\n",
       " 'dti',\n",
       " 'delinquency_2years',\n",
       " 'ficoRangeLow',\n",
       " 'ficoRangeHigh',\n",
       " 'openAcc',\n",
       " 'pubRec',\n",
       " 'revolBal',\n",
       " 'revolUtil',\n",
       " 'totalAcc',\n",
       " 'title',\n",
       " 'n0',\n",
       " 'n1',\n",
       " 'n2',\n",
       " 'n3',\n",
       " 'n4',\n",
       " 'n5',\n",
       " 'n6',\n",
       " 'n7',\n",
       " 'n8',\n",
       " 'n9',\n",
       " 'n10',\n",
       " 'n13',\n",
       " 'n14']"
      ]
     },
     "execution_count": 211,
     "metadata": {},
     "output_type": "execute_result"
    }
   ],
   "source": [
    "num_nocat_col"
   ]
  },
  {
   "cell_type": "code",
   "execution_count": 273,
   "metadata": {},
   "outputs": [],
   "source": [
    "# 其他衍生变量 mean 和 std,按照grade分组，计算每个组内，n0,n1,....,n14的均值和标准差\n",
    "fea = np.array(num_nocat_col)\n",
    "for df in [data_train, data_test]:\n",
    "    for item in fea:\n",
    "        df['grade_to_mean_' + item] = df[item] / df.groupby('grade')[item].transform('mean')\n",
    "        df['grade_to_std_' + item] = df[item] / df.groupby('grade')[item].transform('std')"
   ]
  },
  {
   "cell_type": "code",
   "execution_count": 274,
   "metadata": {},
   "outputs": [
    {
     "data": {
      "text/plain": [
       "((200000, 260), (800000, 263))"
      ]
     },
     "execution_count": 274,
     "metadata": {},
     "output_type": "execute_result"
    }
   ],
   "source": [
    "data_test.shape,data_train.shape"
   ]
  },
  {
   "cell_type": "markdown",
   "metadata": {},
   "source": [
    "### 特征编码\n",
    "哪些数据可以onehot编码，哪些数据适合标签编码\n",
    "- one-hot编码\n",
    "- label-encode编码"
   ]
  },
  {
   "cell_type": "code",
   "execution_count": 84,
   "metadata": {},
   "outputs": [
    {
     "data": {
      "text/html": [
       "<div>\n",
       "<style scoped>\n",
       "    .dataframe tbody tr th:only-of-type {\n",
       "        vertical-align: middle;\n",
       "    }\n",
       "\n",
       "    .dataframe tbody tr th {\n",
       "        vertical-align: top;\n",
       "    }\n",
       "\n",
       "    .dataframe thead th {\n",
       "        text-align: right;\n",
       "    }\n",
       "</style>\n",
       "<table border=\"1\" class=\"dataframe\">\n",
       "  <thead>\n",
       "    <tr style=\"text-align: right;\">\n",
       "      <th></th>\n",
       "      <th>employmentTitle</th>\n",
       "      <th>postCode</th>\n",
       "      <th>title</th>\n",
       "    </tr>\n",
       "  </thead>\n",
       "  <tbody>\n",
       "    <tr>\n",
       "      <th>0</th>\n",
       "      <td>192025</td>\n",
       "      <td>43</td>\n",
       "      <td>1</td>\n",
       "    </tr>\n",
       "    <tr>\n",
       "      <th>1</th>\n",
       "      <td>104733</td>\n",
       "      <td>64</td>\n",
       "      <td>6326</td>\n",
       "    </tr>\n",
       "    <tr>\n",
       "      <th>2</th>\n",
       "      <td>189509</td>\n",
       "      <td>265</td>\n",
       "      <td>0</td>\n",
       "    </tr>\n",
       "    <tr>\n",
       "      <th>3</th>\n",
       "      <td>249631</td>\n",
       "      <td>55</td>\n",
       "      <td>26200</td>\n",
       "    </tr>\n",
       "    <tr>\n",
       "      <th>4</th>\n",
       "      <td>256267</td>\n",
       "      <td>226</td>\n",
       "      <td>910</td>\n",
       "    </tr>\n",
       "  </tbody>\n",
       "</table>\n",
       "</div>"
      ],
      "text/plain": [
       "   employmentTitle  postCode  title\n",
       "0           192025        43      1\n",
       "1           104733        64   6326\n",
       "2           189509       265      0\n",
       "3           249631        55  26200\n",
       "4           256267       226    910"
      ]
     },
     "execution_count": 84,
     "metadata": {},
     "output_type": "execute_result"
    }
   ],
   "source": [
    "data_train[['employmentTitle', 'postCode', 'title']][:5]"
   ]
  },
  {
   "cell_type": "code",
   "execution_count": 83,
   "metadata": {},
   "outputs": [
    {
     "data": {
      "text/plain": [
       "employmentTitle    248683\n",
       "postCode              932\n",
       "title               39644\n",
       "dtype: int64"
      ]
     },
     "execution_count": 83,
     "metadata": {},
     "output_type": "execute_result"
    }
   ],
   "source": [
    "data_train[['employmentTitle', 'postCode', 'title']].nunique()"
   ]
  },
  {
   "cell_type": "code",
   "execution_count": 33,
   "metadata": {},
   "outputs": [
    {
     "name": "stderr",
     "output_type": "stream",
     "text": [
      "100%|████████████████████████████████████████████████████████████████████████████████████| 3/3 [00:06<00:00,  2.14s/it]"
     ]
    },
    {
     "name": "stdout",
     "output_type": "stream",
     "text": [
      "Label Encoding 完成\n"
     ]
    },
    {
     "name": "stderr",
     "output_type": "stream",
     "text": [
      "\n"
     ]
    }
   ],
   "source": [
    "for col in tqdm(['employmentTitle', 'postCode', 'title']):\n",
    "    le = LabelEncoder()\n",
    "    le.fit(list(data_train[col].astype(str).values) + list(data_test[col].astype(str).values))\n",
    "    data_train[col] = le.transform(list(data_train[col].astype(str).values))\n",
    "    data_test[col] = le.transform(list(data_test[col].astype(str).values))\n",
    "print('Label Encoding 完成')"
   ]
  },
  {
   "cell_type": "markdown",
   "metadata": {},
   "source": [
    "### 逻辑回归等模型要单独增加的特征工程\n",
    "- 对特征做归一化，去除相关性高的特征\n",
    "- 归一化的目的是让训练过程更好更快的收敛，避免特征大吃小的问题\n",
    "- 去除相关性是增加模型的可解释性，加快预测过程"
   ]
  },
  {
   "cell_type": "code",
   "execution_count": 85,
   "metadata": {},
   "outputs": [
    {
     "ename": "SyntaxError",
     "evalue": "invalid character in identifier (<ipython-input-85-fa43f959a4d9>, line 3)",
     "output_type": "error",
     "traceback": [
      "\u001b[1;36m  File \u001b[1;32m\"<ipython-input-85-fa43f959a4d9>\"\u001b[1;36m, line \u001b[1;32m3\u001b[0m\n\u001b[1;33m    for fea in [要归一化的特征列表]：\u001b[0m\n\u001b[1;37m                          ^\u001b[0m\n\u001b[1;31mSyntaxError\u001b[0m\u001b[1;31m:\u001b[0m invalid character in identifier\n"
     ]
    }
   ],
   "source": [
    "# 举例归一化过程\n",
    "#伪代码\n",
    "for fea in [要归一化的特征列表]：\n",
    "    data[fea] = ((data[fea] - np.min(data[fea])) / (np.max(data[fea]) - np.min(data[fea])))"
   ]
  },
  {
   "cell_type": "markdown",
   "metadata": {},
   "source": [
    "### 特征选择"
   ]
  },
  {
   "cell_type": "markdown",
   "metadata": {},
   "source": [
    "特征选择技术可以精简掉无用的特征，以降低最终模型的复杂性，它的最终目的是得到一个简约模型，在不降低预测准确率或对预测准确率影响不大的情况下提高计算速度。特征选择不是为了减少训练时间（实际上，一些技术会增加总体训练时间），而是为了减少模型评分时间。\n",
    "1. Filter\n",
    "- 方差选择法\n",
    "- 相关系数法（pearson相关系数）\n",
    "- 卡方检验\n",
    "- 互信息法\n",
    "2. Wrapper(RFE)\n",
    "- 递归特征消除法\n",
    "3. Embedded\n",
    "- 基于惩罚项的特征选择法\n",
    "- 基于树模型的特征选择"
   ]
  },
  {
   "cell_type": "markdown",
   "metadata": {},
   "source": [
    "#### Filter-方差选择法\n",
    "这些选择是基于连续变量还是标签变量"
   ]
  },
  {
   "cell_type": "code",
   "execution_count": 275,
   "metadata": {
    "scrolled": true
   },
   "outputs": [
    {
     "data": {
      "text/plain": [
       "array([[3.5000e+04, 1.9520e+01, 9.1797e+02, ..., 2.0000e+00, 7.0000e+00,\n",
       "        2.0000e+00],\n",
       "       [1.8000e+04, 1.8490e+01, 4.6190e+02, ..., 2.0000e+00, 1.3000e+01,\n",
       "        2.0000e+00],\n",
       "       [1.2000e+04, 1.6990e+01, 2.9817e+02, ..., 3.0000e+00, 1.1000e+01,\n",
       "        4.0000e+00],\n",
       "       ...,\n",
       "       [6.0000e+03, 1.3330e+01, 2.0312e+02, ..., 4.0000e+00, 5.0000e+00,\n",
       "        4.0000e+00],\n",
       "       [1.9200e+04, 6.9200e+00, 5.9214e+02, ..., 8.0000e+00, 1.6000e+01,\n",
       "        5.0000e+00],\n",
       "       [9.0000e+03, 1.1060e+01, 2.9491e+02, ..., 3.0000e+00, 7.0000e+00,\n",
       "        2.0000e+00]])"
      ]
     },
     "execution_count": 275,
     "metadata": {},
     "output_type": "execute_result"
    }
   ],
   "source": [
    "from sklearn.feature_selection import VarianceThreshold\n",
    "#其中参数threshold为方差的阈值\n",
    "\n",
    "selector = VarianceThreshold(threshold=3)\n",
    "selector.fit_transform(data_train[fea])"
   ]
  },
  {
   "cell_type": "code",
   "execution_count": 276,
   "metadata": {
    "scrolled": true
   },
   "outputs": [
    {
     "data": {
      "text/plain": [
       "26"
      ]
     },
     "execution_count": 276,
     "metadata": {},
     "output_type": "execute_result"
    }
   ],
   "source": [
    "# 方差大于阈值的特征\n",
    "fea=fea[selector.variances_>selector.threshold]\n",
    "len(fea)"
   ]
  },
  {
   "cell_type": "code",
   "execution_count": 216,
   "metadata": {},
   "outputs": [
    {
     "data": {
      "text/plain": [
       "30"
      ]
     },
     "execution_count": 216,
     "metadata": {},
     "output_type": "execute_result"
    }
   ],
   "source": [
    "len(fea)"
   ]
  },
  {
   "cell_type": "markdown",
   "metadata": {},
   "source": [
    "方差选择法-练习"
   ]
  },
  {
   "cell_type": "code",
   "execution_count": 96,
   "metadata": {
    "scrolled": false
   },
   "outputs": [
    {
     "name": "stdout",
     "output_type": "stream",
     "text": [
      "[[0, 2, 0], [9, 1, 4], [0, 1, 6]]\n"
     ]
    },
    {
     "data": {
      "text/plain": [
       "array([[0, 0],\n",
       "       [9, 4],\n",
       "       [0, 6]])"
      ]
     },
     "execution_count": 96,
     "metadata": {},
     "output_type": "execute_result"
    }
   ],
   "source": [
    "from sklearn.feature_selection import VarianceThreshold\n",
    "X = [[0, 2, 0], [9, 1, 4], [0, 1, 6]]\n",
    "print(X)\n",
    "selector = VarianceThreshold(threshold=2)\n",
    "selector.fit_transform(X)\n"
   ]
  },
  {
   "cell_type": "code",
   "execution_count": 98,
   "metadata": {},
   "outputs": [
    {
     "name": "stdout",
     "output_type": "stream",
     "text": [
      "[[0, 2, 0], [9, 1, 4], [0, 1, 6]]\n"
     ]
    }
   ],
   "source": [
    "print(X)"
   ]
  },
  {
   "cell_type": "markdown",
   "metadata": {},
   "source": [
    "fit表示只从数据中学习方差，但是并不会应用\n",
    "但是,fit_transform不止会学习方差，还会应用在数据上，完成了两个操作"
   ]
  },
  {
   "cell_type": "code",
   "execution_count": 97,
   "metadata": {
    "scrolled": true
   },
   "outputs": [
    {
     "name": "stdout",
     "output_type": "stream",
     "text": [
      "[18.          0.22222222  6.22222222]\n"
     ]
    }
   ],
   "source": [
    "# 通过variances_属性查看样本各个特征的方差\n",
    "print(selector.variances_)"
   ]
  },
  {
   "cell_type": "markdown",
   "metadata": {},
   "source": [
    "参考链接：https://blog.csdn.net/kancy110/article/details/72835050"
   ]
  },
  {
   "cell_type": "markdown",
   "metadata": {},
   "source": [
    "### 卡方检验"
   ]
  },
  {
   "attachments": {
    "image.png": {
     "image/png": "[encoded data removed]"
    }
   },
   "cell_type": "markdown",
   "metadata": {},
   "source": [
    "经典的卡方检验是用于检验自变量对因变量的相关性，假设自变量有N种取值，因变量有M种取值，考虑自变量等于i且因变量等于j的样本频数的观察值与期望的差距。其统计量如下\n",
    "![image.png](attachment:image.png)\n",
    "注意：卡方只能用在正定矩阵上，否则会报错Input X must be non-negative)"
   ]
  },
  {
   "cell_type": "code",
   "execution_count": 204,
   "metadata": {},
   "outputs": [
    {
     "data": {
      "text/plain": [
       "array([[ 2.,  2.,  4.,  2.,  2.],\n",
       "       [ 2.,  2.,  4.,  2.,  2.],\n",
       "       [ 3.,  3.,  4.,  3.,  4.],\n",
       "       [ 6.,  6.,  7.,  6.,  1.],\n",
       "       [ 7.,  7., 10.,  7.,  4.],\n",
       "       [ 2.,  2.,  2.,  2.,  0.],\n",
       "       [ 3.,  3., 10.,  3.,  3.],\n",
       "       [ 4.,  4.,  5.,  4.,  2.],\n",
       "       [13., 13., 13., 11.,  6.],\n",
       "       [ 5.,  5.,  6.,  5.,  8.]])"
      ]
     },
     "execution_count": 204,
     "metadata": {},
     "output_type": "execute_result"
    }
   ],
   "source": [
    "from sklearn.feature_selection import SelectKBest\n",
    "from sklearn.feature_selection import chi2\n",
    "#参数k为选择的特征个数,评分最高的5个特征\n",
    "\n",
    "selector_kf = SelectKBest(chi2, k=5)\n",
    "selector_kf.fit_transform(data_train[fea],data_train['isDefault'])[:10]"
   ]
  },
  {
   "cell_type": "code",
   "execution_count": 195,
   "metadata": {},
   "outputs": [
    {
     "data": {
      "text/plain": [
       "array(['n7', 'n9', 'n3', 'n2', 'n14'], dtype='<U3')"
      ]
     },
     "execution_count": 195,
     "metadata": {},
     "output_type": "execute_result"
    }
   ],
   "source": [
    "# 特征得分，得分越高表示，表示该特征越好\n",
    "s = selector_kf.scores_\n",
    "fea[np.argpartition(s,-5)[-5:]]"
   ]
  },
  {
   "cell_type": "code",
   "execution_count": 196,
   "metadata": {},
   "outputs": [
    {
     "data": {
      "text/plain": [
       "array(['n0', 'n8', 'n4', 'n13', 'n6'], dtype='<U3')"
      ]
     },
     "execution_count": 196,
     "metadata": {},
     "output_type": "execute_result"
    }
   ],
   "source": [
    "# p值越小，置信度越高，特征并不是按照这个排序的\n",
    "p=selector_kf.pvalues_\n",
    "fea[np.argpartition(p,-5)[-5:]]"
   ]
  },
  {
   "cell_type": "markdown",
   "metadata": {},
   "source": [
    "#### argpartition的使用\n",
    "\n",
    "参考链接：\n",
    "- https://blog.csdn.net/snowdroptulip/article/details/78867053\n",
    "- https://www.pythonheidong.com/blog/article/327681/"
   ]
  },
  {
   "cell_type": "code",
   "execution_count": 192,
   "metadata": {},
   "outputs": [
    {
     "name": "stdout",
     "output_type": "stream",
     "text": [
      "[1 4 3 0 2 5]\n",
      "[0 1 2 4 3 5]\n"
     ]
    }
   ],
   "source": [
    "z = np.array([1,4,3,0, 2, 5])\n",
    "print(z)\n",
    "print(z[np.argpartition(z,2)])"
   ]
  },
  {
   "cell_type": "code",
   "execution_count": 162,
   "metadata": {},
   "outputs": [],
   "source": [
    "a = np.array([9, 5.5, 2, 3, 7, 11, 0, 4.9, 6, 0])"
   ]
  },
  {
   "cell_type": "code",
   "execution_count": 172,
   "metadata": {},
   "outputs": [
    {
     "data": {
      "text/plain": [
       "array([ 0. ,  0. ,  2. ,  3. ,  4.9,  5.5,  6. ,  7. , 11. ,  9. ])"
      ]
     },
     "execution_count": 172,
     "metadata": {},
     "output_type": "execute_result"
    }
   ],
   "source": [
    "# kth = [1,2]，找到对第1,2大的数（两个数之间会进行排序），比它小的数放到它前边，并进行排序；比它大的数放到它后边，但并不会进行排序，保持原顺序。\n",
    "ind = np.argpartition(a, [3,6])\n",
    "a[ind]"
   ]
  },
  {
   "cell_type": "markdown",
   "metadata": {},
   "source": [
    "#### embedded"
   ]
  },
  {
   "cell_type": "markdown",
   "metadata": {},
   "source": [
    "计算协方差，可是，协方差有什么用"
   ]
  },
  {
   "cell_type": "code",
   "execution_count": 223,
   "metadata": {
    "scrolled": false
   },
   "outputs": [
    {
     "name": "stdout",
     "output_type": "stream",
     "text": [
      "<class 'pandas.core.frame.DataFrame'>\n",
      "RangeIndex: 800000 entries, 0 to 799999\n",
      "Columns: 263 entries, id to grade_to_std_n14\n",
      "dtypes: datetime64[ns](1), float64(92), int64(7), object(34), uint8(129)\n",
      "memory usage: 916.3+ MB\n"
     ]
    }
   ],
   "source": [
    "data_train.info()"
   ]
  },
  {
   "cell_type": "code",
   "execution_count": 277,
   "metadata": {},
   "outputs": [],
   "source": [
    "def get_feature(df):\n",
    "    all_col = df.columns.to_list()\n",
    "    return [col for col in all_col if '_outliers' not in col]\n",
    "train_feature_col = get_feature(data_train)\n",
    "test_feature_col = get_feature(data_test)"
   ]
  },
  {
   "cell_type": "code",
   "execution_count": 279,
   "metadata": {
    "scrolled": true
   },
   "outputs": [
    {
     "name": "stdout",
     "output_type": "stream",
     "text": [
      "233\n",
      "230\n"
     ]
    }
   ],
   "source": [
    "print(len(train_feature_col))\n",
    "print(len(test_feature_col))"
   ]
  },
  {
   "cell_type": "code",
   "execution_count": 281,
   "metadata": {},
   "outputs": [],
   "source": [
    "data_train = data_train[train_feature_col]\n",
    "data_test = data_test[test_feature_col]"
   ]
  },
  {
   "cell_type": "code",
   "execution_count": 282,
   "metadata": {},
   "outputs": [],
   "source": [
    "# 删除不需要的数据\n",
    "for data in [data_train, data_test]:\n",
    "    data.drop(['issueDate','id','policyCode','employmentLength','grade','subGrade','earliesCreditLine'], axis=1,inplace=True)"
   ]
  },
  {
   "cell_type": "code",
   "execution_count": 217,
   "metadata": {},
   "outputs": [],
   "source": [
    "# fea=np.append(fea,np.array(['isDefault']))"
   ]
  },
  {
   "cell_type": "code",
   "execution_count": 218,
   "metadata": {},
   "outputs": [],
   "source": [
    "x_train = data_train[fea].drop(['isDefault'], axis=1)\n",
    "# 计算协方差\n",
    "data_corr = x_train.corrwith(data_train[fea].isDefault) # 计算相关性\n",
    "result = pd.DataFrame(columns=['features', 'corr'])\n",
    "result['features'] = data_corr.index\n",
    "result['corr'] = data_corr.values"
   ]
  },
  {
   "cell_type": "markdown",
   "metadata": {},
   "source": [
    "#### 用热图查看"
   ]
  },
  {
   "cell_type": "code",
   "execution_count": 221,
   "metadata": {
    "scrolled": true
   },
   "outputs": [
    {
     "data": {
      "text/plain": [
       "<matplotlib.axes._subplots.AxesSubplot at 0x17c08dc2940>"
      ]
     },
     "execution_count": 221,
     "metadata": {},
     "output_type": "execute_result"
    },
    {
     "data": {
      "image/png": "[encoded data removed]",
      "text/plain": [
       "<matplotlib.figure.Figure at 0x17c0ccfc0b8>"
      ]
     },
     "metadata": {},
     "output_type": "display_data"
    }
   ],
   "source": [
    "# 当然也可以直接看图\n",
    "data_numeric = data_train[fea[:-1]]\n",
    "correlation = data_numeric.corr()\n",
    "\n",
    "f , ax = plt.subplots(figsize = (7, 7))\n",
    "plt.title('Correlation of Numeric Features with Price',y=1,size=16)\n",
    "sns.heatmap(correlation,square = True,  vmax=0.8)"
   ]
  },
  {
   "cell_type": "markdown",
   "metadata": {},
   "source": [
    "### 保存特征"
   ]
  },
  {
   "cell_type": "code",
   "execution_count": null,
   "metadata": {},
   "outputs": [],
   "source": [
    "data_train.to_csv('../finance_dataset/features/submit_solo_02.csv',encoding='utf-8')"
   ]
  },
  {
   "cell_type": "code",
   "execution_count": null,
   "metadata": {},
   "outputs": [],
   "source": []
  },
  {
   "cell_type": "markdown",
   "metadata": {},
   "source": [
    "### 构建模型"
   ]
  },
  {
   "cell_type": "code",
   "execution_count": 294,
   "metadata": {},
   "outputs": [],
   "source": [
    "def cv_model(clf, train_x, train_y, test_x, clf_name):\n",
    "    folds = 5\n",
    "    seed = 2020\n",
    "    kf = KFold(n_splits=folds, shuffle=True, random_state=seed)\n",
    "\n",
    "    train = np.zeros(train_x.shape[0])\n",
    "    test = np.zeros(test_x.shape[0])\n",
    "\n",
    "    cv_scores = []\n",
    "\n",
    "    for i, (train_index, valid_index) in enumerate(kf.split(train_x, train_y)):\n",
    "        print('************************************ {} ************************************'.format(str(i+1)))\n",
    "        trn_x, trn_y, val_x, val_y = train_x.iloc[train_index], train_y[train_index], train_x.iloc[valid_index], train_y[valid_index]\n",
    "\n",
    "        if clf_name == \"lgb\":\n",
    "            train_matrix = clf.Dataset(trn_x, label=trn_y)\n",
    "            valid_matrix = clf.Dataset(val_x, label=val_y)\n",
    "\n",
    "            params = {\n",
    "                'boosting_type': 'gbdt',\n",
    "                'objective': 'binary',\n",
    "                'metric': 'auc',\n",
    "                'min_child_weight': 5,\n",
    "                'num_leaves': 2 ** 5,\n",
    "                'lambda_l2': 10,\n",
    "                'feature_fraction': 0.8,\n",
    "                'bagging_fraction': 0.8,\n",
    "                'bagging_freq': 4,\n",
    "                'learning_rate': 0.1,\n",
    "                'seed': 2020,\n",
    "                'nthread': 28,\n",
    "                'n_jobs':24,\n",
    "                'silent': True,\n",
    "                'verbose': -1,\n",
    "            }\n",
    "\n",
    "            model = clf.train(params, train_matrix, 50000, valid_sets=[train_matrix, valid_matrix], verbose_eval=200,early_stopping_rounds=200)\n",
    "            val_pred = model.predict(val_x, num_iteration=model.best_iteration)\n",
    "            test_pred = model.predict(test_x, num_iteration=model.best_iteration,predict_disable_shape_check=True)\n",
    "            \n",
    "            # print(list(sorted(zip(features, model.feature_importance(\"gain\")), key=lambda x: x[1], reverse=True))[:20])\n",
    "                \n",
    "        if clf_name == \"xgb\":\n",
    "            train_matrix = clf.DMatrix(trn_x , label=trn_y)\n",
    "            valid_matrix = clf.DMatrix(val_x , label=val_y)\n",
    "            \n",
    "            params = {'booster': 'gbtree',\n",
    "                      'objective': 'binary:logistic',\n",
    "                      'eval_metric': 'auc',\n",
    "                      'gamma': 1,\n",
    "                      'min_child_weight': 1.5,\n",
    "                      'max_depth': 5,\n",
    "                      'lambda': 10,\n",
    "                      'subsample': 0.7,\n",
    "                      'colsample_bytree': 0.7,\n",
    "                      'colsample_bylevel': 0.7,\n",
    "                      'eta': 0.04,\n",
    "                      'tree_method': 'exact',\n",
    "                      'seed': 2020,\n",
    "                      'nthread': 36,\n",
    "                      \"silent\": True,\n",
    "                      }\n",
    "            \n",
    "            watchlist = [(train_matrix, 'train'),(valid_matrix, 'eval')]\n",
    "            \n",
    "            model = clf.train(params, train_matrix, num_boost_round=50000, evals=watchlist, verbose_eval=200, early_stopping_rounds=200)\n",
    "            val_pred  = model.predict(valid_matrix, ntree_limit=model.best_ntree_limit)\n",
    "            test_pred = model.predict(test_x , ntree_limit=model.best_ntree_limit)\n",
    "                 \n",
    "        if clf_name == \"cat\":\n",
    "            params = {'learning_rate': 0.05, 'depth': 5, 'l2_leaf_reg': 10, 'bootstrap_type': 'Bernoulli',\n",
    "                      'od_type': 'Iter', 'od_wait': 50, 'random_seed': 11, 'allow_writing_files': False}\n",
    "            \n",
    "            model = clf(iterations=20000, **params)\n",
    "            model.fit(trn_x, trn_y, eval_set=(val_x, val_y),\n",
    "                      cat_features=[], use_best_model=True, verbose=500)\n",
    "            \n",
    "            val_pred  = model.predict(val_x)\n",
    "            test_pred = model.predict(test_x)\n",
    "            \n",
    "        train[valid_index] = val_pred\n",
    "        test = test_pred / kf.n_splits\n",
    "        cv_scores.append(roc_auc_score(val_y, val_pred))\n",
    "        \n",
    "        print(cv_scores)\n",
    "        \n",
    "    print(\"%s_scotrainre_list:\" % clf_name, cv_scores)\n",
    "    print(\"%s_score_mean:\" % clf_name, np.mean(cv_scores))\n",
    "    print(\"%s_score_std:\" % clf_name, np.std(cv_scores))\n",
    "    return train, test"
   ]
  },
  {
   "cell_type": "code",
   "execution_count": 295,
   "metadata": {},
   "outputs": [],
   "source": [
    "def lgb_model(x_train, y_train, x_test):\n",
    "    lgb_train, lgb_test = cv_model(lgb, x_train, y_train, x_test, \"lgb\")\n",
    "    return lgb_train, lgb_test\n",
    "\n",
    "def xgb_model(x_train, y_train, x_test):\n",
    "    xgb_train, xgb_test = cv_model(xgb, x_train, y_train, x_test, \"xgb\")\n",
    "    return xgb_train, xgb_test\n",
    "\n",
    "def cat_model(x_train, y_train, x_test):\n",
    "    cat_train, cat_test = cv_model(CatBoostRegressor, x_train, y_train, x_test, \"cat\")"
   ]
  },
  {
   "cell_type": "code",
   "execution_count": 296,
   "metadata": {},
   "outputs": [
    {
     "data": {
      "text/plain": [
       "((800000, 226), (200000, 223))"
      ]
     },
     "execution_count": 296,
     "metadata": {},
     "output_type": "execute_result"
    }
   ],
   "source": [
    "data_train.shape,data_test.shape"
   ]
  },
  {
   "cell_type": "code",
   "execution_count": 284,
   "metadata": {},
   "outputs": [],
   "source": [
    "y_train = data_train.isDefault"
   ]
  },
  {
   "cell_type": "code",
   "execution_count": 285,
   "metadata": {
    "scrolled": true
   },
   "outputs": [
    {
     "data": {
      "text/plain": [
       "(800000, 225)"
      ]
     },
     "execution_count": 285,
     "metadata": {},
     "output_type": "execute_result"
    }
   ],
   "source": [
    "x_train = data_train.drop(['isDefault'], axis=1)\n",
    "x_train.shape"
   ]
  },
  {
   "cell_type": "code",
   "execution_count": 286,
   "metadata": {},
   "outputs": [],
   "source": [
    "x_test = data_test"
   ]
  },
  {
   "cell_type": "code",
   "execution_count": 288,
   "metadata": {},
   "outputs": [
    {
     "data": {
      "text/plain": [
       "(200000, 223)"
      ]
     },
     "execution_count": 288,
     "metadata": {},
     "output_type": "execute_result"
    }
   ],
   "source": [
    "x_test.shape"
   ]
  },
  {
   "cell_type": "code",
   "execution_count": 297,
   "metadata": {},
   "outputs": [
    {
     "name": "stdout",
     "output_type": "stream",
     "text": [
      "************************************ 1 ************************************\n",
      "[LightGBM] [Warning] num_threads is set with nthread=28, will be overridden by n_jobs=24. Current value: num_threads=24\n",
      "[LightGBM] [Warning] Unknown parameter: silent\n",
      "Training until validation scores don't improve for 200 rounds\n",
      "[200]\ttraining's auc: 0.748425\tvalid_1's auc: 0.735345\n",
      "[400]\ttraining's auc: 0.762305\tvalid_1's auc: 0.735958\n",
      "[600]\ttraining's auc: 0.774127\tvalid_1's auc: 0.735703\n",
      "Early stopping, best iteration is:\n",
      "[429]\ttraining's auc: 0.764143\tvalid_1's auc: 0.736023\n",
      "[0.736022819251776]\n",
      "************************************ 2 ************************************\n",
      "[LightGBM] [Warning] num_threads is set with nthread=28, will be overridden by n_jobs=24. Current value: num_threads=24\n",
      "[LightGBM] [Warning] Unknown parameter: silent\n",
      "Training until validation scores don't improve for 200 rounds\n",
      "[200]\ttraining's auc: 0.749224\tvalid_1's auc: 0.731302\n",
      "[400]\ttraining's auc: 0.762781\tvalid_1's auc: 0.732235\n",
      "[600]\ttraining's auc: 0.774683\tvalid_1's auc: 0.732282\n",
      "[800]\ttraining's auc: 0.785578\tvalid_1's auc: 0.732297\n",
      "Early stopping, best iteration is:\n",
      "[739]\ttraining's auc: 0.782256\tvalid_1's auc: 0.732387\n",
      "[0.736022819251776, 0.7323874612333547]\n",
      "************************************ 3 ************************************\n",
      "[LightGBM] [Warning] num_threads is set with nthread=28, will be overridden by n_jobs=24. Current value: num_threads=24\n",
      "[LightGBM] [Warning] Unknown parameter: silent\n",
      "Training until validation scores don't improve for 200 rounds\n",
      "[200]\ttraining's auc: 0.74834\tvalid_1's auc: 0.734969\n",
      "[400]\ttraining's auc: 0.761701\tvalid_1's auc: 0.735918\n",
      "[600]\ttraining's auc: 0.773931\tvalid_1's auc: 0.736356\n",
      "Early stopping, best iteration is:\n",
      "[576]\ttraining's auc: 0.772601\tvalid_1's auc: 0.736416\n",
      "[0.736022819251776, 0.7323874612333547, 0.7364163052671515]\n",
      "************************************ 4 ************************************\n",
      "[LightGBM] [Warning] num_threads is set with nthread=28, will be overridden by n_jobs=24. Current value: num_threads=24\n",
      "[LightGBM] [Warning] Unknown parameter: silent\n",
      "Training until validation scores don't improve for 200 rounds\n",
      "[200]\ttraining's auc: 0.748128\tvalid_1's auc: 0.733901\n",
      "[400]\ttraining's auc: 0.762164\tvalid_1's auc: 0.734497\n",
      "[600]\ttraining's auc: 0.774056\tvalid_1's auc: 0.734391\n",
      "Early stopping, best iteration is:\n",
      "[415]\ttraining's auc: 0.763025\tvalid_1's auc: 0.734555\n",
      "[0.736022819251776, 0.7323874612333547, 0.7364163052671515, 0.7345552040006357]\n",
      "************************************ 5 ************************************\n",
      "[LightGBM] [Warning] num_threads is set with nthread=28, will be overridden by n_jobs=24. Current value: num_threads=24\n",
      "[LightGBM] [Warning] Unknown parameter: silent\n",
      "Training until validation scores don't improve for 200 rounds\n",
      "[200]\ttraining's auc: 0.748683\tvalid_1's auc: 0.732747\n",
      "[400]\ttraining's auc: 0.762403\tvalid_1's auc: 0.733422\n",
      "[600]\ttraining's auc: 0.774115\tvalid_1's auc: 0.733371\n",
      "Early stopping, best iteration is:\n",
      "[524]\ttraining's auc: 0.769921\tvalid_1's auc: 0.733556\n",
      "[0.736022819251776, 0.7323874612333547, 0.7364163052671515, 0.7345552040006357, 0.7335561379179353]\n",
      "lgb_scotrainre_list: [0.736022819251776, 0.7323874612333547, 0.7364163052671515, 0.7345552040006357, 0.7335561379179353]\n",
      "lgb_score_mean: 0.7345875855341706\n",
      "lgb_score_std: 0.0015039675112007832\n"
     ]
    }
   ],
   "source": [
    "lgb_train, lgb_test = lgb_model(x_train, y_train, x_test)"
   ]
  },
  {
   "cell_type": "code",
   "execution_count": 300,
   "metadata": {},
   "outputs": [
    {
     "data": {
      "text/plain": [
       "array([0.02742824, 0.06436508, 0.09324969, ..., 0.05495921, 0.07631225,\n",
       "       0.01156416])"
      ]
     },
     "execution_count": 300,
     "metadata": {},
     "output_type": "execute_result"
    }
   ],
   "source": [
    "lgb_test"
   ]
  },
  {
   "cell_type": "code",
   "execution_count": 301,
   "metadata": {},
   "outputs": [
    {
     "data": {
      "text/plain": [
       "array([0.27327223, 0.26690831, 0.4664745 , ..., 0.24542784, 0.05830645,\n",
       "       0.04559115])"
      ]
     },
     "execution_count": 301,
     "metadata": {},
     "output_type": "execute_result"
    }
   ],
   "source": [
    "lgb_train"
   ]
  },
  {
   "cell_type": "code",
   "execution_count": 302,
   "metadata": {
    "scrolled": true
   },
   "outputs": [
    {
     "data": {
      "text/plain": [
       "[<matplotlib.lines.Line2D at 0x15888d8cd30>]"
      ]
     },
     "execution_count": 302,
     "metadata": {},
     "output_type": "execute_result"
    },
    {
     "data": {
      "image/png": "[encoded data removed]",
      "text/plain": [
       "<matplotlib.figure.Figure at 0x15889c535f8>"
      ]
     },
     "metadata": {},
     "output_type": "display_data"
    }
   ],
   "source": [
    "plt.plot(lgb_test)"
   ]
  },
  {
   "cell_type": "markdown",
   "metadata": {},
   "source": [
    "### 保存文件\n",
    "\n",
    "将概率值转化为0,1"
   ]
  },
  {
   "cell_type": "code",
   "execution_count": 331,
   "metadata": {},
   "outputs": [],
   "source": [
    "# 0.09的分数比0.076的低，所以，阈值可能需要设置的更低，但是，如何设置这个阈值呢\n",
    "threshold = 0.076\n",
    "result = pd.Series([1 if pred > threshold else 0 for pred in lgb_test])\n"
   ]
  },
  {
   "cell_type": "code",
   "execution_count": 323,
   "metadata": {},
   "outputs": [
    {
     "data": {
      "text/plain": [
       "0.2157906894749"
      ]
     },
     "execution_count": 323,
     "metadata": {},
     "output_type": "execute_result"
    }
   ],
   "source": [
    "b=result.value_counts()\n",
    "b[1]/b[0]"
   ]
  },
  {
   "cell_type": "code",
   "execution_count": 321,
   "metadata": {},
   "outputs": [
    {
     "data": {
      "text/plain": [
       "0.2492387451396805"
      ]
     },
     "execution_count": 321,
     "metadata": {},
     "output_type": "execute_result"
    }
   ],
   "source": [
    "a=y_train.value_counts()\n",
    "a[1]/a[0]"
   ]
  },
  {
   "cell_type": "code",
   "execution_count": 325,
   "metadata": {},
   "outputs": [],
   "source": [
    "test = pd.read_csv('../finance_dataset/sample_submit.csv')"
   ]
  },
  {
   "cell_type": "code",
   "execution_count": 332,
   "metadata": {},
   "outputs": [],
   "source": [
    "test['isDefault'] = result"
   ]
  },
  {
   "cell_type": "code",
   "execution_count": 333,
   "metadata": {},
   "outputs": [
    {
     "data": {
      "text/html": [
       "<div>\n",
       "<style scoped>\n",
       "    .dataframe tbody tr th:only-of-type {\n",
       "        vertical-align: middle;\n",
       "    }\n",
       "\n",
       "    .dataframe tbody tr th {\n",
       "        vertical-align: top;\n",
       "    }\n",
       "\n",
       "    .dataframe thead th {\n",
       "        text-align: right;\n",
       "    }\n",
       "</style>\n",
       "<table border=\"1\" class=\"dataframe\">\n",
       "  <thead>\n",
       "    <tr style=\"text-align: right;\">\n",
       "      <th></th>\n",
       "      <th>id</th>\n",
       "      <th>isDefault</th>\n",
       "    </tr>\n",
       "  </thead>\n",
       "  <tbody>\n",
       "    <tr>\n",
       "      <th>0</th>\n",
       "      <td>800000</td>\n",
       "      <td>0</td>\n",
       "    </tr>\n",
       "    <tr>\n",
       "      <th>1</th>\n",
       "      <td>800001</td>\n",
       "      <td>0</td>\n",
       "    </tr>\n",
       "    <tr>\n",
       "      <th>2</th>\n",
       "      <td>800002</td>\n",
       "      <td>1</td>\n",
       "    </tr>\n",
       "    <tr>\n",
       "      <th>3</th>\n",
       "      <td>800003</td>\n",
       "      <td>0</td>\n",
       "    </tr>\n",
       "    <tr>\n",
       "      <th>4</th>\n",
       "      <td>800004</td>\n",
       "      <td>1</td>\n",
       "    </tr>\n",
       "    <tr>\n",
       "      <th>...</th>\n",
       "      <td>...</td>\n",
       "      <td>...</td>\n",
       "    </tr>\n",
       "    <tr>\n",
       "      <th>199995</th>\n",
       "      <td>999995</td>\n",
       "      <td>0</td>\n",
       "    </tr>\n",
       "    <tr>\n",
       "      <th>199996</th>\n",
       "      <td>999996</td>\n",
       "      <td>0</td>\n",
       "    </tr>\n",
       "    <tr>\n",
       "      <th>199997</th>\n",
       "      <td>999997</td>\n",
       "      <td>0</td>\n",
       "    </tr>\n",
       "    <tr>\n",
       "      <th>199998</th>\n",
       "      <td>999998</td>\n",
       "      <td>0</td>\n",
       "    </tr>\n",
       "    <tr>\n",
       "      <th>199999</th>\n",
       "      <td>999999</td>\n",
       "      <td>0</td>\n",
       "    </tr>\n",
       "  </tbody>\n",
       "</table>\n",
       "<p>200000 rows × 2 columns</p>\n",
       "</div>"
      ],
      "text/plain": [
       "            id  isDefault\n",
       "0       800000          0\n",
       "1       800001          0\n",
       "2       800002          1\n",
       "3       800003          0\n",
       "4       800004          1\n",
       "...        ...        ...\n",
       "199995  999995          0\n",
       "199996  999996          0\n",
       "199997  999997          0\n",
       "199998  999998          0\n",
       "199999  999999          0\n",
       "\n",
       "[200000 rows x 2 columns]"
      ]
     },
     "execution_count": 333,
     "metadata": {},
     "output_type": "execute_result"
    }
   ],
   "source": [
    "test"
   ]
  },
  {
   "cell_type": "code",
   "execution_count": 334,
   "metadata": {},
   "outputs": [],
   "source": [
    "test.to_csv('../finance_dataset/result/submit_solo_02.csv',encoding='utf-8')"
   ]
  },
  {
   "cell_type": "markdown",
   "metadata": {},
   "source": [
    "如何看阈值设置多少合适"
   ]
  },
  {
   "cell_type": "code",
   "execution_count": null,
   "metadata": {},
   "outputs": [],
   "source": []
  }
 ],
 "metadata": {
  "kernelspec": {
   "display_name": "Python 3",
   "language": "python",
   "name": "python3"
  },
  "language_info": {
   "codemirror_mode": {
    "name": "ipython",
    "version": 3
   },
   "file_extension": ".py",
   "mimetype": "text/x-python",
   "name": "python",
   "nbconvert_exporter": "python",
   "pygments_lexer": "ipython3",
   "version": "3.6.4"
  }
 },
 "nbformat": 4,
 "nbformat_minor": 2
}
