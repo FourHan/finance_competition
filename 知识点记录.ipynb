{
 "cells": [
  {
   "cell_type": "markdown",
   "metadata": {},
   "source": [
    "方差选择法：\n",
    "\n",
    "当特征值都是离散型变量的时候这种方法才能用，如果是连续型变量，就需要将连续变量离散化之后才能用，在实际当中，很少出现95%以上都取某个值的特征存在，所以这种方法虽然简单但是不太好用。可以把它作为特征选择的预处理，先去掉那些取值变化小的特征\n"
   ]
  },
  {
   "cell_type": "markdown",
   "metadata": {},
   "source": [
    "参考链接：https://blog.csdn.net/LuohenYJ/article/details/107238504\n",
    "构建特征的的tricks：https://www.cnblogs.com/pinard/p/9032759.html"
   ]
  },
  {
   "cell_type": "markdown",
   "metadata": {},
   "source": [
    "lightgbm：顺便吐槽一下，lgb的参数名字比较不统一，比如n_estimators/num_iterations/num_round/num_boost_round这四个都代表迭代次数，所以建议大家调参前先大致看一下参数名字，以免搞混了"
   ]
  },
  {
   "cell_type": "markdown",
   "metadata": {},
   "source": [
    "参考链接：https://zhuanlan.zhihu.com/p/104376738\n",
    "调参过程：https://www.cnblogs.com/bjwu/p/9307344.html"
   ]
  }
 ],
 "metadata": {
  "kernelspec": {
   "display_name": "Python 3",
   "language": "python",
   "name": "python3"
  },
  "language_info": {
   "codemirror_mode": {
    "name": "ipython",
    "version": 3
   },
   "file_extension": ".py",
   "mimetype": "text/x-python",
   "name": "python",
   "nbconvert_exporter": "python",
   "pygments_lexer": "ipython3",
   "version": "3.6.4"
  }
 },
 "nbformat": 4,
 "nbformat_minor": 2
}
